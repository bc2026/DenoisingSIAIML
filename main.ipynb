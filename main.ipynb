{
 "cells": [
  {
   "cell_type": "code",
   "execution_count": 22,
   "metadata": {},
   "outputs": [],
   "source": [
    "# Import required libraries\n",
    "import os\n",
    "import numpy as np\n",
    "import matplotlib.pyplot as plt\n",
    "from lib import *\n",
    "\n",
    "from lib.image_processing import load_tiff_stack, moving_average_subtraction, identify_particles\n",
    "from lib.particle_tracking import extract_roi, track_particles\n",
    "from lib.visualization import ParticleVisualizer\n",
    "from lib.config import directory_setup"
   ]
  },
  {
   "cell_type": "code",
   "execution_count": null,
   "metadata": {},
   "outputs": [],
   "source": [
    "dir_Path = './'\n",
    "Path, ID, X, Y, Sframe, Eframe = f'{dir_Path}/Streams/Cell1_S1.tif', 'P1_C1_S1_11', 685, 660, 1, 300\n",
    "stackPath, stackFile = os.path.split(Path)\n",
    "startColX = X\n",
    "startRowY = Y\n",
    "particleID = ID\n",
    "SFrame = Sframe\n",
    "EFrame = Eframe"
   ]
  },
  {
   "cell_type": "code",
   "execution_count": 21,
   "metadata": {},
   "outputs": [
    {
     "name": "stdout",
     "output_type": "stream",
     "text": [
      "  \n"
     ]
    }
   ],
   "source": [
    "directory_setup(stackPath, stackFile, particleID, startColX, startRowY, X, Y)"
   ]
  },
  {
   "cell_type": "code",
   "execution_count": null,
   "metadata": {},
   "outputs": [],
   "source": [
    "# Load and process the stack\n",
    "print(\"Loading image stack...\")\n",
    "stack = load_tiff_stack(Path, Sframe, Eframe)\n",
    "print(f\"Stack loaded with shape: {stack.shape}\")"
   ]
  },
  {
   "cell_type": "code",
   "execution_count": null,
   "metadata": {},
   "outputs": [],
   "source": [
    "# Perform background subtraction\n",
    "print(\"Performing background subtraction...\")\n",
    "subtracted_matrix, subtracted_matrix_b, subtracted_matrix_d, subtracted_matrix_double = \\\n",
    "    moving_average_subtraction(stack, FRAME_RANGE)"
   ]
  },
  {
   "cell_type": "code",
   "execution_count": null,
   "metadata": {},
   "outputs": [],
   "source": [
    "# Identify particles\n",
    "print(\"Identifying particles...\")\n",
    "particle_region, particle_region_b, particle_region_d = \\\n",
    "    identify_particles(subtracted_matrix, subtracted_matrix_b, subtracted_matrix_d, \n",
    "                      THRESH_STACK, PARTICLE_SIZE_THRESH)"
   ]
  },
  {
   "cell_type": "code",
   "execution_count": null,
   "metadata": {},
   "outputs": [],
   "source": [
    "# Extract ROI and track particles\n",
    "print(\"Tracking particles...\")\n",
    "particle_region_roi = extract_roi(particle_region, Y, X, ROI)\n",
    "particle_centroid_roi, updated_particle_region_roi, jump_frames = \\\n",
    "    track_particles(particle_region_roi, PARTICLE_DEFAULT_DIAMETER, JUMP_THRESH, MIN_AREA)\n",
    "\n",
    "print(f\"Tracking complete. {jump_frames} frames had jumps that were corrected.\")"
   ]
  },
  {
   "cell_type": "code",
   "execution_count": null,
   "metadata": {},
   "outputs": [],
   "source": [
    "# Plot some results\n",
    "print(\"Plotting sample frames...\")\n",
    "\n",
    "p = ParticleVisualizer(save_path=, figsize=(10,8), dpi=300)\n",
    "\n",
    "for i in range(0, min(10, stack.shape[0])):\n",
    "    # Plot original frame ROI\n",
    "    p.plot_frame(stack[i, Y-ROI:Y+ROI+1, X-ROI:X+ROI+1], f\"Original Frame {i+1}\")\n",
    "    \n",
    "    # Plot subtracted frame ROI\n",
    "    p.plot_frame(subtracted_matrix[i, Y-ROI:Y+ROI+1, X-ROI:X+ROI+1], f\"Subtracted Frame {i+1}\")\n",
    "    \n",
    "    # Plot particle mask\n",
    "    p.plot_frame(updated_particle_region_roi[i], f\"Particle Mask Frame {i+1}\")\n"
   ]
  },
  {
   "cell_type": "code",
   "execution_count": null,
   "metadata": {},
   "outputs": [],
   "source": [
    "# Save tracking results to disk\n",
    "print(\"Saving results...\")\n",
    "# np.save(f\"{save_base_name}_centroids.npy\", particle_centroid_roi)\n",
    "# np.save(f\"{save_base_name}_masks.npy\", updated_particle_region_roi)\n",
    "\n",
    "print(\"Processing complete!\")"
   ]
  }
 ],
 "metadata": {
  "kernelspec": {
   "display_name": "Python 3",
   "language": "python",
   "name": "python3"
  },
  "language_info": {
   "codemirror_mode": {
    "name": "ipython",
    "version": 3
   },
   "file_extension": ".py",
   "mimetype": "text/x-python",
   "name": "python",
   "nbconvert_exporter": "python",
   "pygments_lexer": "ipython3",
   "version": "3.11.9"
  }
 },
 "nbformat": 4,
 "nbformat_minor": 2
}
